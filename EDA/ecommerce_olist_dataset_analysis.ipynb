{
  "nbformat": 4,
  "nbformat_minor": 0,
  "metadata": {
    "colab": {
      "provenance": [],
      "toc_visible": true
    },
    "kernelspec": {
      "name": "python3",
      "display_name": "Python 3"
    },
    "language_info": {
      "name": "python"
    }
  },
  "cells": [
    {
      "cell_type": "markdown",
      "source": [
        "**I. Instalación de librerías**"
      ],
      "metadata": {
        "id": "quLqVraeIvbw"
      }
    },
    {
      "cell_type": "code",
      "source": [
        "!pip install dask\n",
        "!pip install dataprep"
      ],
      "metadata": {
        "id": "8SZ67LltIuNS"
      },
      "execution_count": null,
      "outputs": []
    },
    {
      "cell_type": "markdown",
      "source": [
        "**II. Importación de librerías**\n"
      ],
      "metadata": {
        "id": "-k0AfVvc1spa"
      }
    },
    {
      "cell_type": "code",
      "execution_count": 4,
      "metadata": {
        "id": "LgfGdaQD1jy3"
      },
      "outputs": [],
      "source": [
        "import dask.dataframe as dd\n",
        "from dataprep.eda import create_report"
      ]
    },
    {
      "cell_type": "markdown",
      "source": [
        "**II. Análisis Exploratorio de Datos**"
      ],
      "metadata": {
        "id": "I6mKVhno12Yn"
      }
    },
    {
      "cell_type": "markdown",
      "source": [
        "**File 1:** olist_orders_dataset"
      ],
      "metadata": {
        "id": "XljI6ypv2djT"
      }
    },
    {
      "cell_type": "code",
      "source": [
        "# Crear el dataframe a partir de un archivo CSV\n",
        "df = dd.read_csv(\n",
        "    'ecommerce-olist-dataset/olist_orders_dataset.csv', \n",
        "    parse_dates=['order_purchase_timestamp','order_approved_at','order_delivered_carrier_date','order_delivered_customer_date','order_estimated_delivery_date'], \n",
        "    infer_datetime_format=True\n",
        "    )\n",
        "\n",
        "# Generar el informe de análisis exploratorio de datos\n",
        "report = create_report(df)\n",
        "\n",
        "# Mostrar el informe\n",
        "#report\n",
        "\n",
        "# Guardar el informe\n",
        "report.save('ecommerce-olist-dataset/orders_dataset_report.html')"
      ],
      "metadata": {
        "id": "ZOIro8RR1_Jw"
      },
      "execution_count": null,
      "outputs": []
    },
    {
      "cell_type": "markdown",
      "source": [
        "**File 2:** olist_customers_dataset"
      ],
      "metadata": {
        "id": "p2iHiW89Lb1y"
      }
    },
    {
      "cell_type": "code",
      "source": [
        "# Crear el dataframe a partir de un archivo CSV\n",
        "df = dd.read_csv(\n",
        "    'ecommerce-olist-dataset/olist_customers_dataset.csv'\n",
        "    )\n",
        "\n",
        "# Generar el informe de análisis exploratorio de datos\n",
        "report = create_report(df)\n",
        "\n",
        "# Mostrar el informe\n",
        "#report\n",
        "\n",
        "# Guardar el informe\n",
        "report.save('ecommerce-olist-dataset/customer_dataset_report.html')"
      ],
      "metadata": {
        "id": "SkLaNfziLjVk"
      },
      "execution_count": null,
      "outputs": []
    },
    {
      "cell_type": "markdown",
      "source": [
        "**File 3:** olist_order_items_dataset"
      ],
      "metadata": {
        "id": "BCIi64KvL3Rk"
      }
    },
    {
      "cell_type": "code",
      "source": [
        "# Crear el dataframe a partir de un archivo CSV\n",
        "df = dd.read_csv(\n",
        "    'ecommerce-olist-dataset/olist_order_items_dataset.csv',\n",
        "    parse_dates=['shipping_limit_date'], \n",
        "    infer_datetime_format=True\n",
        "    )\n",
        "\n",
        "# Generar el informe de análisis exploratorio de datos\n",
        "report = create_report(df)\n",
        "\n",
        "# Mostrar el informe\n",
        "#report\n",
        "\n",
        "# Guardar el informe\n",
        "report.save('ecommerce-olist-dataset/order_items_dataset_report.html')"
      ],
      "metadata": {
        "id": "xaiqlo3TMAbQ"
      },
      "execution_count": null,
      "outputs": []
    },
    {
      "cell_type": "code",
      "source": [
        "df = dd.read_csv('olist_customers_dataset.csv')\n",
        "\n",
        "\n",
        "# Seleccionar los valores únicos de las columnas\n",
        "unique_values = df[['customer_unique_id', 'customer_zip_code_prefix', 'customer_city', 'customer_state']].drop_duplicates()\n",
        "\n",
        "# Agregar una columna row_number para verificar la unicidad de customer_unique_id\n",
        "unique_values['row_number'] = unique_values.groupby('customer_unique_id').cumcount() + 1\n",
        "\n",
        "# Filtrar los datos donde row_number sea mayor a 1\n",
        "filtered_values = unique_values[unique_values['row_number'] > 1]\n",
        "\n",
        "# Imprimir el resultado\n",
        "print(filtered_values.compute())\n"
      ],
      "metadata": {
        "id": "PPclYcBJS2md"
      },
      "execution_count": null,
      "outputs": []
    },
    {
      "cell_type": "code",
      "source": [
        "# Filtrar por el valor de customer_unique_id\n",
        "filtered_customer = unique_values.query(\"customer_unique_id == '340d924858c395848c127b3e772b6bfd'\")\n",
        "\n",
        "# Imprimir los resultados\n",
        "print(filtered_customer.compute())"
      ],
      "metadata": {
        "id": "zdgmc9z0S4PQ"
      },
      "execution_count": null,
      "outputs": []
    }
  ]
}